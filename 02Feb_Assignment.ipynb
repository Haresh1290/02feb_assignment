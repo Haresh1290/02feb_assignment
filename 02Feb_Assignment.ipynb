{
 "cells": [
  {
   "cell_type": "code",
   "execution_count": 3,
   "id": "8ddfcba9-176e-4826-91e4-d93272187ff7",
   "metadata": {},
   "outputs": [
    {
     "name": "stdout",
     "output_type": "stream",
     "text": [
      "apple\n",
      "banana\n",
      "cherry\n"
     ]
    }
   ],
   "source": [
    "# problem 1\n",
    "# for loop\n",
    "\"\"\"A for loop is used for iterating over a sequence (that is either a list, a tuple, a dictionary, a set, or a string).\n",
    "This is less like the for keyword in other programming languages, and works more like an iterator method as found in other object-orientated programming languages.\n",
    "With the for loop we can execute a set of statements, once for each item in a list, tuple, set etc.\"\"\"\n",
    "\n",
    "fruits = [\"apple\", \"banana\", \"cherry\"]\n",
    "for i in fruits:\n",
    "  \n",
    " print(i)"
   ]
  },
  {
   "cell_type": "code",
   "execution_count": 6,
   "id": "affbb65f-2574-41f5-9b91-109b8484d7a8",
   "metadata": {},
   "outputs": [
    {
     "name": "stdout",
     "output_type": "stream",
     "text": [
      "1\n",
      "2\n",
      "3\n",
      "4\n",
      "5\n"
     ]
    }
   ],
   "source": [
    "# problem 1\n",
    "# while loop\n",
    "\n",
    "\"\"\"With the while loop we can execute a set of statements as long as a condition is true.\n",
    "The while loop iteration of a code block is executed as long as the given condition, i.e., conditional_expression, is true.\n",
    "If we don't know how many times we'll execute the iteration ahead of time, we can write an indefinite loop.\"\"\"\n",
    "\n",
    "i = 1\n",
    "while i < 6:\n",
    "\n",
    "    print(i)\n",
    "    i += 1"
   ]
  },
  {
   "cell_type": "code",
   "execution_count": 10,
   "id": "31e74212-74ce-49e4-9ebc-913017c2b56f",
   "metadata": {},
   "outputs": [
    {
     "name": "stdout",
     "output_type": "stream",
     "text": [
      "2260.0\n"
     ]
    }
   ],
   "source": [
    "# problem 3\n",
    "\n",
    "def calculateBill(units):\n",
    " \n",
    "   \n",
    "    if (units <= 100):\n",
    "        return units * 4.5;\n",
    "     \n",
    "    elif (units <= 200):\n",
    "        return ((100 * 4.5) +\n",
    "                (units - 100) * 6);\n",
    "    elif (units <= 300):\n",
    "        return ((100 * 4.5) +\n",
    "                (100 * 6) +\n",
    "                (units - 200) * 10);\n",
    "    elif (units > 300):\n",
    "        return ((100 * 4.6) +\n",
    "                (100 * 6) +\n",
    "                (100 * 10) +\n",
    "                (units - 300) * 20);\n",
    "     \n",
    "    return 0;\n",
    " \n",
    "\n",
    "units = 310;\n",
    "print(calculateBill(units));"
   ]
  },
  {
   "cell_type": "code",
   "execution_count": 38,
   "id": "d029c264-df45-4790-a728-40a494afc6e3",
   "metadata": {},
   "outputs": [
    {
     "name": "stdout",
     "output_type": "stream",
     "text": [
      "[8, 64, 125, 216, 512, 1000, 1728, 2744, 3375, 4096, 5832, 8000, 10648, 13824, 15625, 17576, 21952, 27000, 32768, 39304, 42875, 46656, 54872, 64000, 74088, 85184, 91125, 97336, 110592, 125000, 140608, 157464, 166375, 175616, 195112, 216000, 238328, 262144, 274625, 287496, 314432, 343000, 373248, 405224, 421875, 438976, 474552, 512000, 551368, 592704, 614125, 636056, 681472, 729000, 778688, 830584, 857375, 884736, 941192]\n"
     ]
    }
   ],
   "source": [
    "# problem 4\n",
    "\n",
    "cubes_by_four_or_five= [x**3 for x in range(1,100) if x**3 % 4 == 0 or  x**3 % 5 ==0]\n",
    "print(cubes_by_four_or_five)  "
   ]
  },
  {
   "cell_type": "code",
   "execution_count": 32,
   "id": "1acd0418-5d37-40fb-a57d-fc2c1e1e2d3b",
   "metadata": {},
   "outputs": [
    {
     "name": "stdout",
     "output_type": "stream",
     "text": [
      "No. of vowels : 12\n"
     ]
    }
   ],
   "source": [
    "def vowel_count(str):\n",
    "    count = 0\n",
    "    vowel = set(\"aeiouAEIOU\")\n",
    "    for alphabet in str:\n",
    "        if alphabet in vowel:\n",
    "            count = count + 1\n",
    "     \n",
    "    print(\"No. of vowels :\", count)\n",
    "     \n",
    "str = \"I want to become a data scientist\"\n",
    "vowel_count(str)"
   ]
  },
  {
   "cell_type": "code",
   "execution_count": null,
   "id": "ec9fef5b-cf44-4b0a-a8a0-06e5eb9bdc69",
   "metadata": {},
   "outputs": [],
   "source": []
  }
 ],
 "metadata": {
  "kernelspec": {
   "display_name": "Python 3 (ipykernel)",
   "language": "python",
   "name": "python3"
  },
  "language_info": {
   "codemirror_mode": {
    "name": "ipython",
    "version": 3
   },
   "file_extension": ".py",
   "mimetype": "text/x-python",
   "name": "python",
   "nbconvert_exporter": "python",
   "pygments_lexer": "ipython3",
   "version": "3.10.8"
  }
 },
 "nbformat": 4,
 "nbformat_minor": 5
}
